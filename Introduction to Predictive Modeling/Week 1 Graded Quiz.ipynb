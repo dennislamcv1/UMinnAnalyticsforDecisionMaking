{
 "cells": [
  {
   "cell_type": "markdown",
   "id": "363b615c",
   "metadata": {},
   "source": [
    "What is the sum of squared residuals?"
   ]
  },
  {
   "cell_type": "code",
   "execution_count": 1,
   "id": "d4e2ac06",
   "metadata": {},
   "outputs": [
    {
     "data": {
      "text/plain": [
       "17"
      ]
     },
     "execution_count": 1,
     "metadata": {},
     "output_type": "execute_result"
    }
   ],
   "source": [
    "(1**2)+(2**2)+(-3**2)+(-2**2)+(5**2)"
   ]
  },
  {
   "cell_type": "markdown",
   "id": "39f45079",
   "metadata": {},
   "source": [
    "In a simple regression problem, we have computed that the total sum of squares is 182.75 and the sum of squared residuals is 14. \n",
    "\n",
    "What is the value of the R2R^2R2 statistic for this problem?"
   ]
  },
  {
   "cell_type": "code",
   "execution_count": 2,
   "id": "f2b44737",
   "metadata": {},
   "outputs": [
    {
     "data": {
      "text/plain": [
       "0.9233926128590971"
      ]
     },
     "execution_count": 2,
     "metadata": {},
     "output_type": "execute_result"
    }
   ],
   "source": [
    "(182.75-14)/ 182.75"
   ]
  },
  {
   "cell_type": "markdown",
   "id": "2b3a8ad1",
   "metadata": {},
   "source": [
    "Based on the regression equation reported by the trendline, if the advertising spending increases by 2 units, the predicted sales increases by approximately ____ units."
   ]
  },
  {
   "cell_type": "code",
   "execution_count": 3,
   "id": "65168eb1",
   "metadata": {},
   "outputs": [],
   "source": [
    "x = 2"
   ]
  },
  {
   "cell_type": "code",
   "execution_count": 4,
   "id": "66553764",
   "metadata": {},
   "outputs": [],
   "source": [
    "y = 5.202*(x) "
   ]
  },
  {
   "cell_type": "code",
   "execution_count": 5,
   "id": "f659012d",
   "metadata": {},
   "outputs": [
    {
     "data": {
      "text/plain": [
       "10.404"
      ]
     },
     "execution_count": 5,
     "metadata": {},
     "output_type": "execute_result"
    }
   ],
   "source": [
    "y"
   ]
  },
  {
   "cell_type": "code",
   "execution_count": null,
   "id": "f3fb313c",
   "metadata": {},
   "outputs": [],
   "source": []
  }
 ],
 "metadata": {
  "kernelspec": {
   "display_name": "Python 3",
   "language": "python",
   "name": "python3"
  },
  "language_info": {
   "codemirror_mode": {
    "name": "ipython",
    "version": 3
   },
   "file_extension": ".py",
   "mimetype": "text/x-python",
   "name": "python",
   "nbconvert_exporter": "python",
   "pygments_lexer": "ipython3",
   "version": "3.8.8"
  }
 },
 "nbformat": 4,
 "nbformat_minor": 5
}
